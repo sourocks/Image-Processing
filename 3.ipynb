{
 "cells": [
  {
   "cell_type": "markdown",
   "id": "96d5a928-6562-4b2b-8227-2b9b004de395",
   "metadata": {},
   "source": [
    "#### image contours using openCV"
   ]
  },
  {
   "cell_type": "code",
   "execution_count": 40,
   "id": "14a651ed-63b5-42b2-9512-1a7478b6309d",
   "metadata": {},
   "outputs": [],
   "source": [
    "import cv2\n",
    "img = cv2.imread(r'D:\\python revise\\Image_preprocessing\\opencvtutorials\\imgdata\\chromelogo.jpg')\n",
    "img= cv2.resize(img,(500,500))\n",
    "img2 = cv2.cvtColor(img, cv2.COLOR_BGR2GRAY)\n",
    "\n",
    "r, thr = cv2.threshold(img2,200,255,cv2.THRESH_BINARY)\n",
    "c,h = cv2.findContours(thr, cv2.RETR_TREE,cv2.CHAIN_APPROX_SIMPLE)\n",
    "new_img = cv2.drawContours(img,c,-1,(255,0,0),2)\n",
    "\n",
    "\n",
    "cv2.imshow(\"window0\", new_img)\n",
    "# cv2.imshow(\"window1\", thr)\n",
    "# cv2.imshow(\"window\", img)\n",
    "cv2.waitKey(0)\n",
    "cv2.destroyAllWindows()\n"
   ]
  },
  {
   "cell_type": "markdown",
   "id": "16d69b44-55ff-4015-84e5-171007004584",
   "metadata": {},
   "source": [
    "#### contour moments and convexhull"
   ]
  },
  {
   "cell_type": "code",
   "execution_count": 74,
   "id": "006e3162-f9d4-4be2-b32e-c6867b5f0edc",
   "metadata": {},
   "outputs": [
    {
     "name": "stdout",
     "output_type": "stream",
     "text": [
      "[348801.0, 2.0, 105.5, 74.0, 0.5, 43.0, 187.0, 3.0, 2.0, 12.0, 79.0, 2.0, 77.0, 1.5, 43.0, 77.0, 30.0, 85.0, 13.0, 54.5, 74.5, 1.0, 95.0, 12.0, 74.5, 0.5, 41.0, 78.0, 2.0, 57.0, 45.5, 30.0, 57.5, 30.0, 111.5, 67.5, 89.0, 12.0, 106.0, 2.5, 1.0, 77.0, 1.0, 74.5, 85.5, 12.0, 38.0, 38.0, 48.0, 88.5, 6.0, 93.5, 9.5, 6.0, 63.5, 38.0, 8.0, 6.0, 156.0, 2.0, 117.0, 452.5, 0.5, 2.0, 4005.5, 3918.0, 4162.0, 5228.0, 2.0, 67.5, 84.0, 13.0, 111.0, 3.0, 2.5, 76.5, 1.5, 71.0, 86.0, 13.5, 105.0, 2.0, 1.0, 93.5, 8.0, 78.0, 2.0, 74.0, 82.5, 12.0, 111.5, 2.0, 3.0, 77.5, 1.0, 61.0, 75.0, 2.0, 67.5, 86.5, 10.0, 107.0, 3.0, 2.5, 68.5, 77.5, 2.0, 2.0, 108.0, 130.0, 30.5, 135.0, 1.5, 100.5, 92.0, 124.0, 0.5, 87.0, 6.0, 2.0, 5164.5, 5022.0, 5518.5, 5495.0, 78.0, 1.5, 77.0, 1.0, 60.0, 67.0, 109.5, 85.0, 13.0, 45.5, 77.0, 2.0, 107.5, 2.0, 1.0, 71.0, 73.0, 0.5, 35.5, 43.0, 102.5, 87.0, 98.5, 10.0, 82.0, 94.0, 4.0, 129.5, 0.5, 79.5, 38.0, 8.0, 60.5, 2.0, 4028.0, 2603.5, 3148.5, 2886.0, 2.0, 122.5, 1.0, 77.0, 1.5, 72.0, 95.0, 11.5, 75.0, 2.0, 107.0, 2.0, 2.0, 67.5, 73.5, 0.5, 58.5, 79.0, 2.0, 80.0, 2.0, 60.0, 44.5, 30.0, 77.0, 44.5, 54.0, 97.5, 3.5, 38.0, 268.0, 1.0, 34.0, 8.0, 72.5, 39.5, 2.0, 3395.0, 4897.0, 5385.0, 4111.5]\n"
     ]
    }
   ],
   "source": [
    "import cv2\n",
    "\n",
    "img = cv2.imread(r'D:\\python revise\\Image_preprocessing\\opencvtutorials\\imgdata\\shapes.jpg')\n",
    "img = cv2.resize(img, (700, 500))\n",
    "gry = cv2.cvtColor(img, cv2.COLOR_BGR2GRAY)\n",
    "\n",
    "# Thresholding\n",
    "r, thr = cv2.threshold(gry, 230, 255, cv2.THRESH_BINARY)\n",
    "\n",
    "# Find contours\n",
    "cnt, h = cv2.findContours(thr, cv2.RETR_TREE, cv2.CHAIN_APPROX_SIMPLE)\n",
    "ar = []\n",
    "\n",
    "for c in cnt:\n",
    "    m = cv2.moments(c)\n",
    "    if m[\"m00\"] != 0:  # Check to avoid division by zero\n",
    "        x = int(m[\"m10\"] / m[\"m00\"])\n",
    "        y = int(m[\"m01\"] / m[\"m00\"])  # Corrected to m[\"m01\"]\n",
    "        cv2.drawContours(img, [c], -1, (0, 0, 255), 4)  \n",
    "        cv2.circle(img, (x, y), 5, (255, 0, 0), -1)\n",
    "        a = cv2.contourArea(c)\n",
    "        ar.append(a)\n",
    "        ep= 0.1*cv2.arclength(c,True)\n",
    "        d= cv2.approxPolyDP(c,ep,True)\n",
    "        h= cv2.convexhull(d)\n",
    "\n",
    "print(ar)\n",
    "\n",
    "cv2.imshow(\"window0\", img)\n",
    "cv2.imshow(\"window1\", thr)\n",
    "cv2.imshow(\"window2\", gry)\n",
    "\n",
    "cv2.waitKey(0)\n",
    "cv2.destroyAllWindows()\n"
   ]
  },
  {
   "cell_type": "code",
   "execution_count": null,
   "id": "ab9e507e-969a-4fd7-b949-7bbb554be9b6",
   "metadata": {},
   "outputs": [],
   "source": []
  }
 ],
 "metadata": {
  "kernelspec": {
   "display_name": "Python 3 (ipykernel)",
   "language": "python",
   "name": "python3"
  },
  "language_info": {
   "codemirror_mode": {
    "name": "ipython",
    "version": 3
   },
   "file_extension": ".py",
   "mimetype": "text/x-python",
   "name": "python",
   "nbconvert_exporter": "python",
   "pygments_lexer": "ipython3",
   "version": "3.12.5"
  }
 },
 "nbformat": 4,
 "nbformat_minor": 5
}
