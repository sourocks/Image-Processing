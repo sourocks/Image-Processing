{
 "cells": [
  {
   "cell_type": "code",
   "execution_count": 2,
   "id": "5b87ac2e-b64a-450f-a753-77bfe10001f6",
   "metadata": {},
   "outputs": [],
   "source": [
    "import cv2\n",
    "import pandas as pd\n",
    "import numpy as np\n",
    "import os\n"
   ]
  },
  {
   "cell_type": "code",
   "execution_count": 2,
   "id": "b6566946-2c96-4a51-b7c4-e3018666ecfb",
   "metadata": {},
   "outputs": [],
   "source": [
    "# img=cv2.imread(\"/home/sourabh/data/python practice/opencvtutorials/imgdata/img1.jpeg\")\n",
    "# # img2=cv2.imread(\"/home/sourabh/data/python practice/opencvtutorials/imgdata/img2.jpeg\")\n",
    "# re_img= cv2.resize(img,(200,200))\n",
    "# # re_img2=cv2.resize(img2,(300,300))\n",
    "# h = np.hstack((re_img,re_img))\n",
    "# v= np.vstack((h,h))\n",
    "# cv2.imshow(\"window\",v)\n",
    "# cv2.waitKey(0)   #0 means by pressing any button on keyboard it closes\n",
    "# # cv2.destroyWindow()\n",
    "# cv2.destroyAllWindows()"
   ]
  },
  {
   "cell_type": "code",
   "execution_count": 3,
   "id": "221904bf-95f8-47ef-826a-fd7a73bf9016",
   "metadata": {},
   "outputs": [],
   "source": [
    "# img=cv2.imread(\"/home/sourabh/data/python practice/opencvtutorials/imgdata/img1.jpeg\")\n",
    "# img2=cv2.imread(\"/home/sourabh/data/python practice/opencvtutorials/imgdata/img2.jpeg\")\n",
    "# re_img= cv2.resize(img,(200,200))\n",
    "# re_img2=cv2.resize(img2,(200,200))\n",
    "# h = np.hstack((re_img,re_img2))\n",
    "# v= np.vstack((h,h))\n",
    "# cv2.imshow(\"window\",v)\n",
    "# cv2.waitKey(0)   #0 means by pressing any button on keyboard it closes\n",
    "# # cv2.destroyWindow()\n",
    "# cv2.destroyAllWindows()"
   ]
  },
  {
   "cell_type": "code",
   "execution_count": 10,
   "id": "abc989eb-1ffd-4c34-9cf9-948afe823c96",
   "metadata": {},
   "outputs": [
    {
     "data": {
      "text/plain": [
       "array([[1, 2, 3, 1, 2, 3],\n",
       "       [1, 2, 3, 1, 2, 3]])"
      ]
     },
     "execution_count": 10,
     "metadata": {},
     "output_type": "execute_result"
    }
   ],
   "source": [
    "# v=np.array([1,2,3,1,2,3])\n",
    "# v\n",
    "# np.hstack([v,v]) # to put two images horizontally\n",
    "# np.vstack([v,v]) #to put img vertically"
   ]
  },
  {
   "cell_type": "code",
   "execution_count": 2,
   "id": "b6b9d553-b584-46ee-bb50-49868029b185",
   "metadata": {},
   "outputs": [
    {
     "name": "stdout",
     "output_type": "stream",
     "text": [
      "['img10.jpeg', 'img1.jpeg', 'img3.jpeg', 'img7.jpeg', 'img8.jpeg', 'img5.jpeg', 'img2.jpeg', 'img9.jpeg', 'img4.jpeg', 'img6.jpeg']\n"
     ]
    }
   ],
   "source": [
    "list_name=os.listdir('/home/sourabh/data/python practice/opencvtutorials/imgdata/')\n",
    "print(list_name)"
   ]
  },
  {
   "cell_type": "code",
   "execution_count": 3,
   "id": "847a9168-03be-4b03-9395-be0f57f0da60",
   "metadata": {},
   "outputs": [
    {
     "name": "stderr",
     "output_type": "stream",
     "text": [
      "Warning: Ignoring XDG_SESSION_TYPE=wayland on Gnome. Use QT_QPA_PLATFORM=wayland to run on Wayland anyway.\n"
     ]
    }
   ],
   "source": [
    "for name in list_name:\n",
    "    path = '/home/sourabh/data/python practice/opencvtutorials/imgdata/'\n",
    "    img_name = path+'/'+ name\n",
    "    img=cv2.imread(img_name)\n",
    "    img=cv2.resize(img,(300,350))\n",
    "    cv2.imshow('window',img)\n",
    "    cv2.waitKey(0)   #we can set timer in milliseconds ex. 5000 for 5 sec\n",
    "cv2.destroyAllWindows()"
   ]
  },
  {
   "cell_type": "code",
   "execution_count": 8,
   "id": "c059f42a-409a-4c6c-b3d2-8d54e7900f9e",
   "metadata": {},
   "outputs": [
    {
     "name": "stdout",
     "output_type": "stream",
     "text": [
      "(259, 195, 3)\n"
     ]
    }
   ],
   "source": [
    "img=cv2.imread('/home/sourabh/data/python practice/opencvtutorials/imgdata/img3.jpeg',1)   #BGR 1 is flag value \n",
    "# print(img)\n",
    "print(img.shape)\n",
    "img=cv2.resize(img,(300,350))\n",
    "cv2.imshow('window',img)\n",
    "cv2.waitKey(0)   \n",
    "cv2.destroyAllWindows()"
   ]
  },
  {
   "cell_type": "code",
   "execution_count": 9,
   "id": "9f4298f4-c39f-46bf-ae70-3341ff4f06ca",
   "metadata": {},
   "outputs": [
    {
     "name": "stdout",
     "output_type": "stream",
     "text": [
      "(259, 195)\n"
     ]
    }
   ],
   "source": [
    "img=cv2.imread('/home/sourabh/data/python practice/opencvtutorials/imgdata/img3.jpeg',0)   #grayscale 0 is flag value \n",
    "# print(img)\n",
    "print(img.shape)\n",
    "img=cv2.resize(img,(300,350))\n",
    "cv2.imshow('window',img)\n",
    "cv2.waitKey(0)   \n",
    "cv2.destroyAllWindows()"
   ]
  },
  {
   "cell_type": "code",
   "execution_count": 10,
   "id": "4028eed0-f9d4-4c6d-a0d3-77e5b3041047",
   "metadata": {},
   "outputs": [
    {
     "name": "stdout",
     "output_type": "stream",
     "text": [
      "(259, 195, 3)\n"
     ]
    }
   ],
   "source": [
    "img=cv2.imread('/home/sourabh/data/python practice/opencvtutorials/imgdata/img3.jpeg',-1)   #unchanged just added some alpha parameter -1 is flag value \n",
    "# print(img)\n",
    "print(img.shape)\n",
    "img=cv2.resize(img,(300,350))\n",
    "cv2.imshow('window',img)\n",
    "cv2.waitKey(0)   \n",
    "cv2.destroyAllWindows()"
   ]
  },
  {
   "cell_type": "code",
   "execution_count": null,
   "id": "fc558cb2-98ae-4400-9d1a-b48f864e1285",
   "metadata": {},
   "outputs": [],
   "source": []
  }
 ],
 "metadata": {
  "kernelspec": {
   "display_name": "Python 3 (ipykernel)",
   "language": "python",
   "name": "python3"
  },
  "language_info": {
   "codemirror_mode": {
    "name": "ipython",
    "version": 3
   },
   "file_extension": ".py",
   "mimetype": "text/x-python",
   "name": "python",
   "nbconvert_exporter": "python",
   "pygments_lexer": "ipython3",
   "version": "3.12.5"
  }
 },
 "nbformat": 4,
 "nbformat_minor": 5
}
